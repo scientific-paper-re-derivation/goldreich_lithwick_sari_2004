{
 "cells": [
  {
   "cell_type": "code",
   "execution_count": 1,
   "metadata": {},
   "outputs": [],
   "source": [
    "import sympy\n",
    "sympy.init_printing()"
   ]
  },
  {
   "cell_type": "markdown",
   "metadata": {},
   "source": [
    "[Link to paper](https://arxiv.org/pdf/astro-ph/0404240.pdf)"
   ]
  },
  {
   "cell_type": "markdown",
   "metadata": {},
   "source": [
    "Equation 1"
   ]
  },
  {
   "cell_type": "code",
   "execution_count": 2,
   "metadata": {},
   "outputs": [
    {
     "data": {
      "image/png": "[encoded data removed]",
      "text/latex": [
       "$\\displaystyle \\alpha = \\frac{\\sqrt[3]{M_{\\odot}}}{a \\sqrt[3]{\\rho}}$"
      ],
      "text/plain": [
       "    3 ___________\n",
       "    ╲╱ M_{\\odot} \n",
       "α = ─────────────\n",
       "         3 ___   \n",
       "       a⋅╲╱ ρ    "
      ]
     },
     "execution_count": 2,
     "metadata": {},
     "output_type": "execute_result"
    }
   ],
   "source": [
    "M_sol = sympy.Symbol('M_{\\odot}', positive=True) # Solar mass\n",
    "rho = sympy.Symbol('rho', positive=True) # Stellar / planetary density\n",
    "a = sympy.Symbol('a', positive=True) # Semi major axis\n",
    "alpha = sympy.Symbol('alpha', positive=True) # Opening angle\n",
    "eqn_1 = sympy.Eq(alpha,(M_sol/rho/a**3)**sympy.Rational(1,3))\n",
    "eqn_1"
   ]
  },
  {
   "cell_type": "markdown",
   "metadata": {},
   "source": [
    "Definition the Hill velocity"
   ]
  },
  {
   "cell_type": "code",
   "execution_count": 3,
   "metadata": {},
   "outputs": [
    {
     "data": {
      "image/png": "[encoded data removed]",
      "text/latex": [
       "$\\displaystyle v_{H} = \\Omega R_{H}$"
      ],
      "text/plain": [
       "v_H = Ω⋅R_H"
      ]
     },
     "execution_count": 3,
     "metadata": {},
     "output_type": "execute_result"
    }
   ],
   "source": [
    "v_H = sympy.Symbol('v_H', positive=True) # Hill velocity\n",
    "R_H = sympy.Symbol('R_H', positive=True) # Hill radius\n",
    "Omega = sympy.Symbol('Omega', positive=True) # Keplerian frequency\n",
    "hill_velocity = sympy.Eq(v_H, R_H*Omega)\n",
    "hill_velocity"
   ]
  },
  {
   "cell_type": "markdown",
   "metadata": {},
   "source": [
    "The authors claim that $v_H \\approx v_e \\alpha^{1/2}$ where $v_e$ is the escape velocity from the planet. Let's verify that"
   ]
  },
  {
   "cell_type": "markdown",
   "metadata": {},
   "source": [
    "We obtained a different result. What if it's the escape velocity from the planet instead?"
   ]
  },
  {
   "cell_type": "code",
   "execution_count": 6,
   "metadata": {},
   "outputs": [
    {
     "data": {
      "image/png": "[encoded data removed]",
      "text/latex": [
       "$\\displaystyle \\text{True}$"
      ],
      "text/plain": [
       "True"
      ]
     },
     "execution_count": 6,
     "metadata": {},
     "output_type": "execute_result"
    }
   ],
   "source": [
    "G = sympy.Symbol('G', positive=True) # Gravitation constant\n",
    "M_p = sympy.Symbol('M_p', positive=True) # Planet mass\n",
    "R_p = sympy.Symbol('R_p', positive=True) # Planet's radius\n",
    "temp = sympy.Eq(v_H/sympy.sqrt(G*M_p/R_p)/sympy.sqrt(alpha),1)\n",
    "temp = temp.subs(hill_velocity.lhs, hill_velocity.rhs)\n",
    "temp = temp.subs(Omega, sympy.sqrt(G*M_sol/a**3))\n",
    "temp = temp.subs(R_H, a*(M_p/M_sol)**sympy.Rational(1,3))\n",
    "temp = temp.subs(R_p, (M_p/rho)**sympy.Rational(1,3))\n",
    "temp = temp.subs(sympy.solve(eqn_1,M_sol,dict=True)[0])\n",
    "temp"
   ]
  },
  {
   "cell_type": "markdown",
   "metadata": {},
   "source": [
    "Derivation of equation 2"
   ]
  },
  {
   "cell_type": "code",
   "execution_count": 15,
   "metadata": {},
   "outputs": [
    {
     "data": {
      "image/png": "[encoded data removed]",
      "text/latex": [
       "$\\displaystyle \\frac{\\sqrt{a} \\sqrt{\\sigma}}{\\sqrt{\\alpha} \\sqrt{\\rho}}$"
      ],
      "text/plain": [
       "√a⋅√σ\n",
       "─────\n",
       "√α⋅√ρ"
      ]
     },
     "execution_count": 15,
     "metadata": {},
     "output_type": "execute_result"
    }
   ],
   "source": [
    "sigma = sympy.Symbol('sigma', positive=True) # Disc surface density\n",
    "temp = sympy.Eq(M_p, a*R_H*sigma)\n",
    "temp = temp.subs(R_H, a*(M_p/M_sol)**sympy.Rational(1,3))\n",
    "temp = temp.subs(M_p,rho*R_p**3)\n",
    "temp = temp.subs(sympy.solve(eqn_1,M_sol,dict=True)[0])\n",
    "eqn_2_rhs = sympy.solve(temp, R_p)[0]\n",
    "eqn_2_rhs"
   ]
  },
  {
   "cell_type": "markdown",
   "metadata": {},
   "source": [
    "Derivation of equation 3"
   ]
  },
  {
   "cell_type": "code",
   "execution_count": 88,
   "metadata": {},
   "outputs": [
    {
     "data": {
      "image/png": "[encoded data removed]",
      "text/latex": [
       "$\\displaystyle \\frac{a^{\\frac{3}{2}} \\sigma^{\\frac{3}{2}}}{\\alpha^{\\frac{3}{2}} \\sqrt{\\rho}}$"
      ],
      "text/plain": [
       " 3/2  3/2\n",
       "a   ⋅σ   \n",
       "─────────\n",
       "  3/2    \n",
       " α   ⋅√ρ "
      ]
     },
     "execution_count": 88,
     "metadata": {},
     "output_type": "execute_result"
    }
   ],
   "source": [
    "temp = rho*R_p**3\n",
    "temp = temp.subs(R_p, eqn_2_rhs)\n",
    "eqn_3_rhs = temp\n",
    "eqn_3_rhs"
   ]
  },
  {
   "cell_type": "markdown",
   "metadata": {},
   "source": [
    "Derivation of equation 4"
   ]
  },
  {
   "cell_type": "code",
   "execution_count": 91,
   "metadata": {},
   "outputs": [
    {
     "data": {
      "image/png": "[encoded data removed]",
      "text/latex": [
       "$\\displaystyle \\frac{\\sqrt{a} \\alpha^{\\frac{3}{2}} \\sqrt{\\rho}}{\\sqrt{\\sigma}}$"
      ],
      "text/plain": [
       "    3/2   \n",
       "√a⋅α   ⋅√ρ\n",
       "──────────\n",
       "    √σ    "
      ]
     },
     "execution_count": 91,
     "metadata": {},
     "output_type": "execute_result"
    }
   ],
   "source": [
    "temp = sigma*a**2/eqn_3_rhs\n",
    "eqn_4_rhs = temp\n",
    "eqn_4_rhs"
   ]
  },
  {
   "cell_type": "markdown",
   "metadata": {},
   "source": [
    "Derivation of equation 5"
   ]
  },
  {
   "cell_type": "code",
   "execution_count": 52,
   "metadata": {},
   "outputs": [
    {
     "data": {
      "image/png": "[encoded data removed]",
      "text/latex": [
       "$\\displaystyle \\frac{\\sqrt{a} \\sqrt{\\alpha} \\sqrt{\\rho}}{\\Omega \\sqrt{\\sigma}}$"
      ],
      "text/plain": [
       "√a⋅√α⋅√ρ\n",
       "────────\n",
       "  Ω⋅√σ  "
      ]
     },
     "execution_count": 52,
     "metadata": {},
     "output_type": "execute_result"
    }
   ],
   "source": [
    "v_e = sympy.Symbol('v_e', positive=True) # Escape velocity\n",
    "temp = eqn_3_rhs/(R_p**2*sigma*Omega*v_e**2/v_H**2)\n",
    "temp = temp.subs(hill_velocity.lhs, hill_velocity.rhs)\n",
    "temp = temp.subs(R_H, a*(M_p/M_sol)**sympy.Rational(1,3))\n",
    "temp = temp.subs(v_e, sympy.sqrt(G*M_p/R_p))\n",
    "temp = temp.subs(sympy.solve(Omega**2-G*M_sol/a**3,G,dict=True)[0])\n",
    "temp = temp.subs(sympy.solve(eqn_1,M_sol,dict=True)[0])\n",
    "temp = temp.subs(M_p, rho*R_p**3)\n",
    "temp = temp.subs(R_p, eqn_2_rhs)\n",
    "eqn_5_rhs = temp\n",
    "eqn_5_rhs"
   ]
  },
  {
   "cell_type": "markdown",
   "metadata": {},
   "source": [
    "We verify equation 7"
   ]
  },
  {
   "cell_type": "code",
   "execution_count": 59,
   "metadata": {},
   "outputs": [
    {
     "data": {
      "image/png": "[encoded data removed]",
      "text/latex": [
       "$\\displaystyle \\text{True}$"
      ],
      "text/plain": [
       "True"
      ]
     },
     "execution_count": 59,
     "metadata": {},
     "output_type": "execute_result"
    }
   ],
   "source": [
    "temp = sympy.Eq(v_H,R_p*Omega/alpha)\n",
    "temp = temp.subs(hill_velocity.lhs, hill_velocity.rhs)\n",
    "temp = temp.subs(R_H, a*(M_p/M_sol)**sympy.Rational(1,3))\n",
    "temp = temp.subs(M_p, rho*R_p**3)\n",
    "temp = temp.subs(sympy.solve(eqn_1,M_sol,dict=True)[0])\n",
    "temp = temp.simplify()\n",
    "temp"
   ]
  },
  {
   "cell_type": "markdown",
   "metadata": {},
   "source": [
    "To derive equation 8, we need to formulae. The first is the collision rate for small bodies\n",
    "\n",
    "$\\frac{\\Omega \\sigma}{\\rho s}$\n",
    "\n",
    "and the other is the viscous stirring rate (equation 29 in [the other Goldreich, Lithwick and Sari 2004](https://authors.library.caltech.edu/1019/1/GOLaraa04.pdf))\n",
    "\n",
    "$\\frac{\\sigma \\Omega}{\\rho R_{iso}} \\left(\\frac{v_e}{v_H}\\right)^4$"
   ]
  },
  {
   "cell_type": "code",
   "execution_count": 107,
   "metadata": {},
   "outputs": [
    {
     "data": {
      "image/png": "[encoded data removed]",
      "text/latex": [
       "$\\displaystyle \\frac{\\sqrt{a} \\alpha^{\\frac{3}{2}} \\sqrt{\\sigma}}{\\sqrt{\\rho}}$"
      ],
      "text/plain": [
       "    3/2   \n",
       "√a⋅α   ⋅√σ\n",
       "──────────\n",
       "    √ρ    "
      ]
     },
     "execution_count": 107,
     "metadata": {},
     "output_type": "execute_result"
    }
   ],
   "source": [
    "s = sympy.Symbol('s', positive=True) # Size of small body\n",
    "temp = sympy.Eq(Omega*sigma/rho/s,sigma*Omega/rho/eqn_2_rhs/alpha**2)\n",
    "eqn_8_rhs = sympy.solve(temp,s)[0]\n",
    "eqn_8_rhs"
   ]
  },
  {
   "cell_type": "markdown",
   "metadata": {},
   "source": [
    "Equation 10. The two terms on the left hand side are equations 33 and 30 from [Goldreich, Lithwick and Sari 2004](https://authors.library.caltech.edu/1019/1/GOLaraa04.pdf)"
   ]
  },
  {
   "cell_type": "code",
   "execution_count": 110,
   "metadata": {},
   "outputs": [
    {
     "data": {
      "image/png": "[encoded data removed]",
      "text/latex": [
       "$\\displaystyle \\frac{\\Omega \\Sigma v_{H}}{R \\alpha \\rho v} - \\frac{\\Omega \\sigma}{R \\alpha^{2} \\rho}$"
      ],
      "text/plain": [
       "Ω⋅Σ⋅v_H    Ω⋅σ  \n",
       "─────── - ──────\n",
       "R⋅α⋅ρ⋅v      2  \n",
       "          R⋅α ⋅ρ"
      ]
     },
     "execution_count": 110,
     "metadata": {},
     "output_type": "execute_result"
    }
   ],
   "source": [
    "Sigma = sympy.Symbol('Sigma', positive=True) # Mass surface density of large bodies\n",
    "v = sympy.Symbol('v', positive=True) # Velocity of the big bodies\n",
    "eqn_10_rhs = Sigma*Omega/rho/R/alpha*(v_H/v) - sigma*Omega/rho/R/alpha**2\n",
    "eqn_10_rhs"
   ]
  },
  {
   "cell_type": "markdown",
   "metadata": {},
   "source": [
    "Equation 11"
   ]
  },
  {
   "cell_type": "code",
   "execution_count": 113,
   "metadata": {},
   "outputs": [
    {
     "data": {
      "image/png": "[encoded data removed]",
      "text/latex": [
       "$\\displaystyle \\frac{\\Sigma \\alpha v_{H}}{\\sigma}$"
      ],
      "text/plain": [
       "Σ⋅α⋅v_H\n",
       "───────\n",
       "   σ   "
      ]
     },
     "execution_count": 113,
     "metadata": {},
     "output_type": "execute_result"
    }
   ],
   "source": [
    "eqn_11_rhs = sympy.solve(eqn_10_rhs, v)[0] \n",
    "eqn_11_rhs"
   ]
  },
  {
   "cell_type": "markdown",
   "metadata": {},
   "source": [
    "To derive equation 12, we need equations 29 and 27 from [Goldreich, Lithwick and Sari 2004](https://authors.library.caltech.edu/1019/1/GOLaraa04.pdf)"
   ]
  },
  {
   "cell_type": "code",
   "execution_count": 115,
   "metadata": {},
   "outputs": [
    {
     "data": {
      "image/png": "[encoded data removed]",
      "text/latex": [
       "$\\displaystyle \\frac{\\Omega \\Sigma v_{H}^{4}}{R \\alpha^{2} \\rho v^{4}} - \\frac{\\Omega \\sigma v_{H}^{4}}{R \\alpha^{2} \\rho u^{4}}$"
      ],
      "text/plain": [
       "        4           4\n",
       " Ω⋅Σ⋅v_H     Ω⋅σ⋅v_H \n",
       "───────── - ─────────\n",
       "   2    4      2    4\n",
       "R⋅α ⋅ρ⋅v    R⋅α ⋅ρ⋅u "
      ]
     },
     "execution_count": 115,
     "metadata": {},
     "output_type": "execute_result"
    }
   ],
   "source": [
    "u = sympy.Symbol('u', positive=True) # Velocity dispersion of the small particles\n",
    "eqn_12_rhs = (Sigma*Omega/rho/R)*(v_H/v)**4/alpha**2 - (sigma*Omega/rho/R)*(v_H/u)**4/alpha**2\n",
    "eqn_12_rhs"
   ]
  },
  {
   "cell_type": "markdown",
   "metadata": {},
   "source": [
    "Equation 13"
   ]
  },
  {
   "cell_type": "code",
   "execution_count": 119,
   "metadata": {},
   "outputs": [
    {
     "data": {
      "image/png": "[encoded data removed]",
      "text/latex": [
       "$\\displaystyle \\frac{\\sqrt[4]{\\Sigma} u}{\\sqrt[4]{\\sigma}}$"
      ],
      "text/plain": [
       "4 ___  \n",
       "╲╱ Σ ⋅u\n",
       "───────\n",
       " 4 ___ \n",
       " ╲╱ σ  "
      ]
     },
     "execution_count": 119,
     "metadata": {},
     "output_type": "execute_result"
    }
   ],
   "source": [
    "eqn_13_rhs = sympy.solve(eqn_12_rhs,v)[0]\n",
    "eqn_13_rhs"
   ]
  },
  {
   "cell_type": "code",
   "execution_count": null,
   "metadata": {},
   "outputs": [],
   "source": []
  }
 ],
 "metadata": {
  "kernelspec": {
   "display_name": "Python 3",
   "language": "python",
   "name": "python3"
  },
  "language_info": {
   "codemirror_mode": {
    "name": "ipython",
    "version": 3
   },
   "file_extension": ".py",
   "mimetype": "text/x-python",
   "name": "python",
   "nbconvert_exporter": "python",
   "pygments_lexer": "ipython3",
   "version": "3.7.4"
  }
 },
 "nbformat": 4,
 "nbformat_minor": 4
}
