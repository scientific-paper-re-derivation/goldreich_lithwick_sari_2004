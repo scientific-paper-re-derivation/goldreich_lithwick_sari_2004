{
 "cells": [
  {
   "cell_type": "code",
   "execution_count": 1,
   "metadata": {},
   "outputs": [],
   "source": [
    "import sympy\n",
    "sympy.init_printing()"
   ]
  },
  {
   "cell_type": "markdown",
   "metadata": {},
   "source": [
    "In this notebook we reproduce the results from [Goldreich, Lithwick and Sari 2004](https://authors.library.caltech.edu/1019/1/GOLaraa04.pdf)"
   ]
  },
  {
   "cell_type": "markdown",
   "metadata": {},
   "source": [
    "Hill radius"
   ]
  },
  {
   "cell_type": "code",
   "execution_count": 6,
   "metadata": {},
   "outputs": [
    {
     "data": {
      "image/png": "[encoded data removed]",
      "text/latex": [
       "$\\displaystyle R_{H} = \\frac{\\sqrt[3]{M} a}{\\sqrt[3]{M_{\\odot}}}$"
      ],
      "text/plain": [
       "         3 ___     \n",
       "         ╲╱ M ⋅a   \n",
       "R_H = ─────────────\n",
       "      3 ___________\n",
       "      ╲╱ M_{\\odot} "
      ]
     },
     "execution_count": 6,
     "metadata": {},
     "output_type": "execute_result"
    }
   ],
   "source": [
    "R_H = sympy.Symbol('R_H', positive=True) # Hill radius\n",
    "a = sympy.Symbol('a', positive=True) # Semi major axis\n",
    "M = sympy.Symbol('M', positive=True) # Planet mass\n",
    "M_sol = sympy.Symbol('M_{\\odot}', positive=True) # Solar mass\n",
    "hill_radius = sympy.Eq(R_H, a*(M/M_sol)**sympy.Rational(1,3))\n",
    "hill_radius"
   ]
  },
  {
   "cell_type": "markdown",
   "metadata": {},
   "source": [
    "Equation 2"
   ]
  },
  {
   "cell_type": "code",
   "execution_count": 20,
   "metadata": {},
   "outputs": [
    {
     "data": {
      "image/png": "[encoded data removed]",
      "text/latex": [
       "$\\displaystyle \\alpha = \\frac{R_{\\odot} \\sqrt[3]{\\rho_{\\odot}}}{a \\sqrt[3]{\\rho}}$"
      ],
      "text/plain": [
       "              3 ______________\n",
       "    R_{\\odot}⋅╲╱ \\rho_{\\odot} \n",
       "α = ──────────────────────────\n",
       "               3 ___          \n",
       "             a⋅╲╱ ρ           "
      ]
     },
     "execution_count": 20,
     "metadata": {},
     "output_type": "execute_result"
    }
   ],
   "source": [
    "R = sympy.Symbol('R', positive=True) # Planet radius\n",
    "rho = sympy.Symbol('rho', positive=True) # Planet density\n",
    "rho_sol = sympy.Symbol(r'\\rho_{\\odot}', positive=True) # Solar density\n",
    "R_sol = sympy.Symbol('R_{\\odot}', positive=True) # Solar radius\n",
    "alpha = sympy.Symbol('alpha', positive=True) # Tidal parameter\n",
    "temp = R/R_H\n",
    "temp = temp.subs(hill_radius.lhs, hill_radius.rhs)\n",
    "temp = temp.subs(M, rho*R**3)\n",
    "temp = temp.subs(M_sol, R_sol**3*rho_sol)\n",
    "temp = sympy.Eq(alpha, temp)\n",
    "eqn_2 = temp\n",
    "eqn_2"
   ]
  },
  {
   "cell_type": "markdown",
   "metadata": {},
   "source": [
    "Escape velocity from the planet"
   ]
  },
  {
   "cell_type": "code",
   "execution_count": 23,
   "metadata": {},
   "outputs": [
    {
     "data": {
      "image/png": "[encoded data removed]",
      "text/latex": [
       "$\\displaystyle v_{esc} = \\frac{\\sqrt{G} \\sqrt{M}}{\\sqrt{R}}$"
      ],
      "text/plain": [
       "          √G⋅√M\n",
       "v_{esc} = ─────\n",
       "            √R "
      ]
     },
     "execution_count": 23,
     "metadata": {},
     "output_type": "execute_result"
    }
   ],
   "source": [
    "v_esc = sympy.Symbol(r'v_{esc}',positive=True) # Escape velocity\n",
    "G = sympy.Symbol('G', positive=True)\n",
    "escape_velocity = sympy.Eq(v_esc, sympy.sqrt(G*M/R))\n",
    "escape_velocity"
   ]
  },
  {
   "cell_type": "markdown",
   "metadata": {},
   "source": [
    "Equation 3"
   ]
  },
  {
   "cell_type": "code",
   "execution_count": 34,
   "metadata": {},
   "outputs": [
    {
     "data": {
      "image/png": "[encoded data removed]",
      "text/latex": [
       "$\\displaystyle v_{H} = \\sqrt{\\alpha} v_{esc}$"
      ],
      "text/plain": [
       "v_H = √α⋅v_{esc}"
      ]
     },
     "execution_count": 34,
     "metadata": {},
     "output_type": "execute_result"
    }
   ],
   "source": [
    "v_H = sympy.Symbol('v_H', positive=True) # Hill velocity\n",
    "temp = sympy.sqrt(G*M/R_H)\n",
    "temp = temp.subs(sympy.solve(escape_velocity,G,dict=True)[0])\n",
    "temp = temp.subs(hill_radius.lhs, hill_radius.rhs)\n",
    "temp = temp.subs(sympy.solve(eqn_2,a,dict=True)[0])\n",
    "temp = temp.subs(M_sol,R_sol**3*rho_sol)\n",
    "temp = temp.subs(M, R**3*rho)\n",
    "eqn_3 = sympy.Eq(v_H,temp)\n",
    "eqn_3"
   ]
  },
  {
   "cell_type": "markdown",
   "metadata": {},
   "source": [
    "Equation 4"
   ]
  },
  {
   "cell_type": "code",
   "execution_count": 49,
   "metadata": {},
   "outputs": [
    {
     "data": {
      "image/png": "[encoded data removed]",
      "text/latex": [
       "$\\displaystyle \\frac{\\Omega R_{H}^{2} \\sigma}{m}$"
      ],
      "text/plain": [
       "     2  \n",
       "Ω⋅R_H ⋅σ\n",
       "────────\n",
       "   m    "
      ]
     },
     "execution_count": 49,
     "metadata": {},
     "output_type": "execute_result"
    }
   ],
   "source": [
    "rho_d = sympy.Symbol('rho_d', positive=True) # Disc mass density\n",
    "u = sympy.Symbol('u', positive=True) # Velocity dispersion\n",
    "sigma = sympy.Symbol('sigma', positive=True) # Disc surface mass density\n",
    "h_d = sympy.Symbol('h_d', positive=True) # Disc scale height\n",
    "m = sympy.Symbol('m', positive=True) # Mass of a disc particle\n",
    "Omega = sympy.Symbol('Omega', positive=True) # Keplerian frequency\n",
    "temp = R_H**2*rho_d*u/m\n",
    "temp = temp.subs(rho_d, sigma/h_d)\n",
    "temp = temp.subs(h_d, u/Omega)\n",
    "eqn_4_rhs = temp\n",
    "eqn_4_rhs"
   ]
  },
  {
   "cell_type": "markdown",
   "metadata": {},
   "source": [
    "Equation 5"
   ]
  },
  {
   "cell_type": "code",
   "execution_count": 53,
   "metadata": {},
   "outputs": [
    {
     "data": {
      "image/png": "[encoded data removed]",
      "text/latex": [
       "$\\displaystyle \\frac{\\Omega R^{2} \\sigma}{m}$"
      ],
      "text/plain": [
       "   2  \n",
       "Ω⋅R ⋅σ\n",
       "──────\n",
       "  m   "
      ]
     },
     "execution_count": 53,
     "metadata": {},
     "output_type": "execute_result"
    }
   ],
   "source": [
    "temp = R**2*rho_d*u/m\n",
    "temp = temp.subs(rho_d, sigma/h_d)\n",
    "temp = temp.subs(h_d, u/Omega)\n",
    "eqn_5_rhs = temp\n",
    "eqn_5_rhs"
   ]
  },
  {
   "cell_type": "markdown",
   "metadata": {},
   "source": [
    "Equation 6. Using the conservation of angular momentum"
   ]
  },
  {
   "cell_type": "code",
   "execution_count": 58,
   "metadata": {},
   "outputs": [
    {
     "data": {
      "image/png": "[encoded data removed]",
      "text/latex": [
       "$\\displaystyle \\frac{R v_{esc}}{u}$"
      ],
      "text/plain": [
       "R⋅v_{esc}\n",
       "─────────\n",
       "    u    "
      ]
     },
     "execution_count": 58,
     "metadata": {},
     "output_type": "execute_result"
    }
   ],
   "source": [
    "b = sympy.Symbol('b', positive=True) # Impact parameter\n",
    "temp = sympy.Eq(sympy.sqrt(G*M*R), b*u)\n",
    "temp = sympy.solve(temp, b)[0]\n",
    "temp = temp.subs(sympy.solve(escape_velocity,G,dict=True)[0])\n",
    "eqn_6_rhs = temp\n",
    "eqn_6_rhs"
   ]
  },
  {
   "cell_type": "markdown",
   "metadata": {},
   "source": [
    "Equation 7"
   ]
  },
  {
   "cell_type": "code",
   "execution_count": 63,
   "metadata": {},
   "outputs": [
    {
     "data": {
      "image/png": "[encoded data removed]",
      "text/latex": [
       "$\\displaystyle \\frac{\\Omega R^{2} \\sigma v_{esc}^{2}}{m u^{2}}$"
      ],
      "text/plain": [
       "   2          2\n",
       "Ω⋅R ⋅σ⋅v_{esc} \n",
       "───────────────\n",
       "         2     \n",
       "      m⋅u      "
      ]
     },
     "execution_count": 63,
     "metadata": {},
     "output_type": "execute_result"
    }
   ],
   "source": [
    "temp = b**2*u*rho_d/m\n",
    "temp = temp.subs(rho_d, sigma/h_d)\n",
    "temp = temp.subs(h_d, u/Omega)\n",
    "temp = temp.subs(b, eqn_6_rhs)\n",
    "eqn_7_rhs = temp\n",
    "eqn_7_rhs"
   ]
  },
  {
   "cell_type": "markdown",
   "metadata": {},
   "source": [
    "Equation 9"
   ]
  },
  {
   "cell_type": "code",
   "execution_count": 102,
   "metadata": {},
   "outputs": [
    {
     "data": {
      "image/png": "[encoded data removed]",
      "text/latex": [
       "$\\displaystyle u > \\sqrt{\\alpha} v_{H}$"
      ],
      "text/plain": [
       "u > √α⋅v_H"
      ]
     },
     "execution_count": 102,
     "metadata": {},
     "output_type": "execute_result"
    }
   ],
   "source": [
    "temp = h_d>b\n",
    "temp = temp.subs(h_d, u/Omega)\n",
    "temp = temp.subs(b, sympy.sqrt(G*M*R)/v_H)\n",
    "temp = temp.subs(Omega, sympy.sqrt(G*M_sol/a**3))\n",
    "temp = temp.subs(M_sol, rho_sol*R_sol**3)\n",
    "temp = temp.subs(sympy.solve(eqn_2,R_sol,dict=True)[0])\n",
    "temp = temp.subs(rho,M/R**3)\n",
    "temp = temp.subs(sympy.solve(escape_velocity,G,dict=True)[0])\n",
    "temp = temp.subs(sympy.solve(eqn_3,v_esc,dict=True)[0])\n",
    "eqn_9 = sympy.solve(temp,u)\n",
    "eqn_9"
   ]
  },
  {
   "cell_type": "markdown",
   "metadata": {},
   "source": [
    "Equation 10"
   ]
  },
  {
   "cell_type": "code",
   "execution_count": 118,
   "metadata": {},
   "outputs": [
    {
     "data": {
      "image/png": "[encoded data removed]",
      "text/latex": [
       "$\\displaystyle \\frac{\\alpha v_{H}}{u}$"
      ],
      "text/plain": [
       "α⋅v_H\n",
       "─────\n",
       "  u  "
      ]
     },
     "execution_count": 118,
     "metadata": {},
     "output_type": "execute_result"
    }
   ],
   "source": [
    "temp = b**2/(R_H*h_d)\n",
    "temp = temp.subs(h_d, u/Omega)\n",
    "temp = temp.subs(b, sympy.sqrt(G*M*R)/v_H)\n",
    "temp = temp.subs(sympy.solve(eqn_3,v_H,dict=True)[0])\n",
    "temp = temp.subs(sympy.solve(escape_velocity,G,dict=True)[0])\n",
    "temp = temp.subs(Omega,v_H/R_H)\n",
    "temp = temp.subs(R_H,R/alpha)\n",
    "eqn_10_rhs = temp\n",
    "eqn_10_rhs"
   ]
  },
  {
   "cell_type": "markdown",
   "metadata": {},
   "source": [
    "Equation 11"
   ]
  },
  {
   "cell_type": "code",
   "execution_count": 129,
   "metadata": {},
   "outputs": [
    {
     "data": {
      "image/png": "[encoded data removed]",
      "text/latex": [
       "$\\displaystyle \\frac{\\Omega R^{2} \\sigma v_{H}}{\\alpha m u}$"
      ],
      "text/plain": [
       "   2      \n",
       "Ω⋅R ⋅σ⋅v_H\n",
       "──────────\n",
       "  α⋅m⋅u   "
      ]
     },
     "execution_count": 129,
     "metadata": {},
     "output_type": "execute_result"
    }
   ],
   "source": [
    "temp = eqn_10_rhs*eqn_4_rhs\n",
    "temp = temp.subs(R_H, R/alpha)\n",
    "eqn_11_rhs = temp\n",
    "eqn_11_rhs"
   ]
  },
  {
   "cell_type": "markdown",
   "metadata": {},
   "source": [
    "Equation 12"
   ]
  },
  {
   "cell_type": "code",
   "execution_count": 130,
   "metadata": {},
   "outputs": [
    {
     "data": {
      "image/png": "[encoded data removed]",
      "text/latex": [
       "$\\displaystyle \\sqrt{\\alpha}$"
      ],
      "text/plain": [
       "√α"
      ]
     },
     "execution_count": 130,
     "metadata": {},
     "output_type": "execute_result"
    }
   ],
   "source": [
    "eqn_12_rhs = R_H*sympy.sqrt(alpha)/R_H\n",
    "eqn_12_rhs"
   ]
  },
  {
   "cell_type": "markdown",
   "metadata": {},
   "source": [
    "Equation 13"
   ]
  },
  {
   "cell_type": "code",
   "execution_count": 137,
   "metadata": {},
   "outputs": [
    {
     "data": {
      "image/png": "[encoded data removed]",
      "text/latex": [
       "$\\displaystyle \\frac{\\Omega R^{2} \\sigma}{\\alpha^{\\frac{3}{2}} m}$"
      ],
      "text/plain": [
       "   2  \n",
       "Ω⋅R ⋅σ\n",
       "──────\n",
       " 3/2  \n",
       "α   ⋅m"
      ]
     },
     "execution_count": 137,
     "metadata": {},
     "output_type": "execute_result"
    }
   ],
   "source": [
    "temp = eqn_12_rhs*eqn_4_rhs\n",
    "temp = temp.subs(R_H, R/alpha)\n",
    "eqn_13 = temp\n",
    "eqn_13"
   ]
  },
  {
   "cell_type": "markdown",
   "metadata": {},
   "source": [
    "Equation 14"
   ]
  },
  {
   "cell_type": "code",
   "execution_count": 161,
   "metadata": {},
   "outputs": [
    {
     "data": {
      "image/png": "[encoded data removed]",
      "text/latex": [
       "$\\displaystyle - R^{2} m n_{s} \\left(u + v\\right)^{2}$"
      ],
      "text/plain": [
       "  2             2\n",
       "-R ⋅m⋅nₛ⋅(u + v) "
      ]
     },
     "execution_count": 161,
     "metadata": {},
     "output_type": "execute_result"
    }
   ],
   "source": [
    "n_s = sympy.Symbol('n_s', positive=True) # Number density of small bodies\n",
    "v = sympy.Symbol('v', positive=True) # Velocity of the big body\n",
    "eqn_14_rhs = -n_s*R**2*(u+v)**2*m\n",
    "eqn_14_rhs"
   ]
  },
  {
   "cell_type": "markdown",
   "metadata": {},
   "source": [
    "Equation 15"
   ]
  },
  {
   "cell_type": "code",
   "execution_count": 160,
   "metadata": {},
   "outputs": [
    {
     "data": {
      "image/png": "[encoded data removed]",
      "text/latex": [
       "$\\displaystyle R^{2} m n_{s} \\left(u - v\\right)^{2}$"
      ],
      "text/plain": [
       " 2             2\n",
       "R ⋅m⋅nₛ⋅(u - v) "
      ]
     },
     "execution_count": 160,
     "metadata": {},
     "output_type": "execute_result"
    }
   ],
   "source": [
    "eqn_15_rhs = n_s*R**2*(u-v)**2*m\n",
    "eqn_15_rhs"
   ]
  },
  {
   "cell_type": "markdown",
   "metadata": {},
   "source": [
    "Equation 16"
   ]
  },
  {
   "cell_type": "code",
   "execution_count": 162,
   "metadata": {},
   "outputs": [
    {
     "data": {
      "image/png": "[encoded data removed]",
      "text/latex": [
       "$\\displaystyle \\frac{R^{2} m n_{s} u}{M}$"
      ],
      "text/plain": [
       " 2       \n",
       "R ⋅m⋅nₛ⋅u\n",
       "─────────\n",
       "    M    "
      ]
     },
     "execution_count": 162,
     "metadata": {},
     "output_type": "execute_result"
    }
   ],
   "source": [
    "eqn_16_rhs = eqn_15_rhs + eqn_14_rhs\n",
    "eqn_16_rhs = -eqn_16_rhs.simplify()/M/4/v\n",
    "eqn_16_rhs"
   ]
  },
  {
   "cell_type": "markdown",
   "metadata": {},
   "source": [
    "Equation 17"
   ]
  },
  {
   "cell_type": "code",
   "execution_count": 163,
   "metadata": {},
   "outputs": [
    {
     "data": {
      "image/png": "[encoded data removed]",
      "text/latex": [
       "$\\displaystyle \\frac{R^{2} m^{2} n_{s} u^{3}}{M^{2} v^{2}}$"
      ],
      "text/plain": [
       " 2  2     3\n",
       "R ⋅m ⋅nₛ⋅u \n",
       "───────────\n",
       "    2  2   \n",
       "   M ⋅v    "
      ]
     },
     "execution_count": 163,
     "metadata": {},
     "output_type": "execute_result"
    }
   ],
   "source": [
    "t = sympy.Symbol('t', positive=True) # Time, dummy variable here\n",
    "temp = m*u # Momentum from a single collision\n",
    "temp = temp*sympy.sqrt(t*n_s*R**2*u) # Because of random walk, the momentum grows as the square root of the number of collisions\n",
    "temp = temp/M # From momentum to velocity\n",
    "temp = temp**2/v**2/t\n",
    "eqn_17_rhs = temp\n",
    "eqn_17_rhs"
   ]
  },
  {
   "cell_type": "markdown",
   "metadata": {},
   "source": [
    "By equating the cooling and heating rates we can find the equilibrium velocity "
   ]
  },
  {
   "cell_type": "code",
   "execution_count": 164,
   "metadata": {},
   "outputs": [
    {
     "data": {
      "image/png": "[encoded data removed]",
      "text/latex": [
       "$\\displaystyle \\frac{\\sqrt{m} u}{\\sqrt{M}}$"
      ],
      "text/plain": [
       "√m⋅u\n",
       "────\n",
       " √M "
      ]
     },
     "execution_count": 164,
     "metadata": {},
     "output_type": "execute_result"
    }
   ],
   "source": [
    "temp = sympy.Eq(eqn_17_rhs, eqn_16_rhs)\n",
    "sympy.solve(temp,v)[0]"
   ]
  },
  {
   "cell_type": "markdown",
   "metadata": {},
   "source": [
    "Equation 19"
   ]
  },
  {
   "cell_type": "code",
   "execution_count": 179,
   "metadata": {},
   "outputs": [
    {
     "data": {
      "image/png": "[encoded data removed]",
      "text/latex": [
       "$\\displaystyle \\frac{R^{2} n_{b} v^{2}}{u}$"
      ],
      "text/plain": [
       " 2      2\n",
       "R ⋅n_b⋅v \n",
       "─────────\n",
       "    u    "
      ]
     },
     "execution_count": 179,
     "metadata": {},
     "output_type": "execute_result"
    }
   ],
   "source": [
    "n_b = sympy.Symbol('n_b', positive=True) # Number density of large bodies\n",
    "temp = n_b*R**2*(u+v)*((u+2*v)**2-u**2) + n_b*R**2*(u-v)*((u-2*v)**2-u**2)\n",
    "temp = temp/u**2/16\n",
    "temp = temp.simplify()\n",
    "eqn_19_rhs = temp\n",
    "eqn_19_rhs"
   ]
  },
  {
   "cell_type": "markdown",
   "metadata": {},
   "source": [
    "Equation 20"
   ]
  },
  {
   "cell_type": "code",
   "execution_count": 181,
   "metadata": {},
   "outputs": [
    {
     "data": {
      "image/png": "[encoded data removed]",
      "text/latex": [
       "$\\displaystyle \\frac{R^{2} m n_{b} u}{M}$"
      ],
      "text/plain": [
       " 2        \n",
       "R ⋅m⋅n_b⋅u\n",
       "──────────\n",
       "    M     "
      ]
     },
     "execution_count": 181,
     "metadata": {},
     "output_type": "execute_result"
    }
   ],
   "source": [
    "temp = n_b*R**2*u*(u**2*m**2/M)/(u**2*m)\n",
    "eqn_20_rhs = temp\n",
    "eqn_20_rhs"
   ]
  },
  {
   "cell_type": "markdown",
   "metadata": {},
   "source": [
    "Equtation 22"
   ]
  },
  {
   "cell_type": "code",
   "execution_count": 182,
   "metadata": {},
   "outputs": [
    {
     "data": {
      "image/png": "[encoded data removed]",
      "text/latex": [
       "$\\displaystyle R^{2} n_{b} u$"
      ],
      "text/plain": [
       " 2      \n",
       "R ⋅n_b⋅u"
      ]
     },
     "execution_count": 182,
     "metadata": {},
     "output_type": "execute_result"
    }
   ],
   "source": [
    "eqn_22_rhs = n_b*u*R**2\n",
    "eqn_22_rhs"
   ]
  },
  {
   "cell_type": "markdown",
   "metadata": {},
   "source": [
    "Equation 23"
   ]
  },
  {
   "cell_type": "code",
   "execution_count": 211,
   "metadata": {},
   "outputs": [
    {
     "data": {
      "image/png": "[encoded data removed]",
      "text/latex": [
       "$\\displaystyle \\frac{R^{2} m^{2} n_{s} u^{3}}{M^{2} v^{2}}$"
      ],
      "text/plain": [
       " 2  2     3\n",
       "R ⋅m ⋅nₛ⋅u \n",
       "───────────\n",
       "    2  2   \n",
       "   M ⋅v    "
      ]
     },
     "execution_count": 211,
     "metadata": {},
     "output_type": "execute_result"
    }
   ],
   "source": [
    "eqn_23_rhs = n_s*u*R**2*(m*u/M/v)**2\n",
    "eqn_23_rhs"
   ]
  },
  {
   "cell_type": "markdown",
   "metadata": {},
   "source": [
    "Equation 24"
   ]
  },
  {
   "cell_type": "code",
   "execution_count": 212,
   "metadata": {},
   "outputs": [
    {
     "data": {
      "image/png": "[encoded data removed]",
      "text/latex": [
       "$\\displaystyle \\frac{\\Omega \\sigma}{R \\rho}$"
      ],
      "text/plain": [
       "Ω⋅σ\n",
       "───\n",
       "R⋅ρ"
      ]
     },
     "execution_count": 212,
     "metadata": {},
     "output_type": "execute_result"
    }
   ],
   "source": [
    "temp = eqn_16_rhs\n",
    "temp = temp.subs(n_s, rho_d/m)\n",
    "temp = temp.subs(rho_d, sigma/h_d)\n",
    "temp = temp.subs(h_d, u/Omega)\n",
    "temp = temp.subs(M, rho*R**3)\n",
    "eqn_24_rhs = temp\n",
    "eqn_24_rhs"
   ]
  },
  {
   "cell_type": "markdown",
   "metadata": {},
   "source": [
    "Equation 25"
   ]
  },
  {
   "cell_type": "code",
   "execution_count": 201,
   "metadata": {},
   "outputs": [
    {
     "data": {
      "image/png": "[encoded data removed]",
      "text/latex": [
       "$\\displaystyle \\frac{\\Omega m \\sigma u^{2}}{M R \\rho v^{2}}$"
      ],
      "text/plain": [
       "       2\n",
       "Ω⋅m⋅σ⋅u \n",
       "────────\n",
       "       2\n",
       "M⋅R⋅ρ⋅v "
      ]
     },
     "execution_count": 201,
     "metadata": {},
     "output_type": "execute_result"
    }
   ],
   "source": [
    "temp = eqn_17_rhs\n",
    "temp = temp.subs(n_s, rho_d/m)\n",
    "temp = temp.subs(rho_d, sigma/h_d)\n",
    "temp = temp.subs(h_d, u/Omega)\n",
    "temp = temp.subs(M**2, M*rho*R**3)\n",
    "eqn_25_rhs = temp\n",
    "eqn_25_rhs"
   ]
  },
  {
   "cell_type": "markdown",
   "metadata": {},
   "source": [
    "Equation 26"
   ]
  },
  {
   "cell_type": "code",
   "execution_count": 209,
   "metadata": {},
   "outputs": [
    {
     "data": {
      "image/png": "[encoded data removed]",
      "text/latex": [
       "$\\displaystyle \\frac{\\Omega \\Sigma}{R \\rho}$"
      ],
      "text/plain": [
       "Ω⋅Σ\n",
       "───\n",
       "R⋅ρ"
      ]
     },
     "execution_count": 209,
     "metadata": {},
     "output_type": "execute_result"
    }
   ],
   "source": [
    "Sigma = sympy.Symbol('Sigma', positive=True) # Surface density of large bodies\n",
    "temp = eqn_22_rhs\n",
    "temp = temp.subs(n_b, Sigma/M/h_d)\n",
    "temp = temp.subs(h_d, u/Omega)\n",
    "temp = temp.subs(M, rho*R**3)\n",
    "eqn_26_rhs = temp\n",
    "eqn_26_rhs"
   ]
  },
  {
   "cell_type": "markdown",
   "metadata": {},
   "source": [
    "Equation 27"
   ]
  },
  {
   "cell_type": "code",
   "execution_count": 215,
   "metadata": {},
   "outputs": [
    {
     "data": {
      "image/png": "[encoded data removed]",
      "text/latex": [
       "$\\displaystyle \\frac{\\Omega \\sigma v_{esc}^{4}}{R \\rho u^{4}}$"
      ],
      "text/plain": [
       "           4\n",
       "Ω⋅σ⋅v_{esc} \n",
       "────────────\n",
       "        4   \n",
       "   R⋅ρ⋅u    "
      ]
     },
     "execution_count": 215,
     "metadata": {},
     "output_type": "execute_result"
    }
   ],
   "source": [
    "eqn_27_rhs = eqn_24_rhs*(v_esc/u)**4\n",
    "eqn_27_rhs"
   ]
  },
  {
   "cell_type": "markdown",
   "metadata": {},
   "source": [
    "Equation 28"
   ]
  },
  {
   "cell_type": "code",
   "execution_count": 217,
   "metadata": {},
   "outputs": [
    {
     "data": {
      "image/png": "[encoded data removed]",
      "text/latex": [
       "$\\displaystyle \\frac{\\Omega m \\sigma v_{esc}^{4}}{M R \\rho u^{2} v^{2}}$"
      ],
      "text/plain": [
       "             4\n",
       "Ω⋅m⋅σ⋅v_{esc} \n",
       "──────────────\n",
       "        2  2  \n",
       " M⋅R⋅ρ⋅u ⋅v   "
      ]
     },
     "execution_count": 217,
     "metadata": {},
     "output_type": "execute_result"
    }
   ],
   "source": [
    "eqn_28_rhs = eqn_25_rhs*(v_esc/u)**4\n",
    "eqn_28_rhs"
   ]
  },
  {
   "cell_type": "markdown",
   "metadata": {},
   "source": [
    "Equation 29"
   ]
  },
  {
   "cell_type": "code",
   "execution_count": 218,
   "metadata": {},
   "outputs": [
    {
     "data": {
      "image/png": "[encoded data removed]",
      "text/latex": [
       "$\\displaystyle \\frac{\\Omega \\Sigma v_{esc}^{4}}{R \\rho u^{4}}$"
      ],
      "text/plain": [
       "           4\n",
       "Ω⋅Σ⋅v_{esc} \n",
       "────────────\n",
       "        4   \n",
       "   R⋅ρ⋅u    "
      ]
     },
     "execution_count": 218,
     "metadata": {},
     "output_type": "execute_result"
    }
   ],
   "source": [
    "eqn_29_rhs = eqn_26_rhs*(v_esc/u)**4\n",
    "eqn_29_rhs"
   ]
  },
  {
   "cell_type": "markdown",
   "metadata": {},
   "source": [
    "Equation 30"
   ]
  },
  {
   "cell_type": "code",
   "execution_count": 228,
   "metadata": {},
   "outputs": [
    {
     "data": {
      "image/png": "[encoded data removed]",
      "text/latex": [
       "$\\displaystyle \\frac{\\Omega R_{H}^{2} \\sigma}{M}$"
      ],
      "text/plain": [
       "     2  \n",
       "Ω⋅R_H ⋅σ\n",
       "────────\n",
       "   M    "
      ]
     },
     "execution_count": 228,
     "metadata": {},
     "output_type": "execute_result"
    }
   ],
   "source": [
    "temp = rho_d*R_H**2*u/M\n",
    "temp = temp.subs(rho_d, sigma/h_d)\n",
    "temp = temp.subs(h_d, u/Omega)\n",
    "eqn_30_rhs = temp\n",
    "eqn_30_rhs"
   ]
  },
  {
   "cell_type": "markdown",
   "metadata": {},
   "source": [
    "Verify second equality"
   ]
  },
  {
   "cell_type": "code",
   "execution_count": 236,
   "metadata": {},
   "outputs": [
    {
     "data": {
      "image/png": "[encoded data removed]",
      "text/latex": [
       "$\\displaystyle \\frac{\\Omega \\sigma}{R \\alpha^{2} \\rho}$"
      ],
      "text/plain": [
       " Ω⋅σ  \n",
       "──────\n",
       "   2  \n",
       "R⋅α ⋅ρ"
      ]
     },
     "execution_count": 236,
     "metadata": {},
     "output_type": "execute_result"
    }
   ],
   "source": [
    "temp = eqn_30_rhs\n",
    "temp = temp.subs(hill_radius.lhs, hill_radius.rhs)\n",
    "temp = temp.subs(sympy.solve(eqn_2,a,dict=True)[0])\n",
    "temp = temp.subs(M_sol, rho_sol*R_sol**3)\n",
    "temp = temp.subs(M, rho*R**3)\n",
    "eqn_30_rhs_2 = temp\n",
    "eqn_30_rhs_2"
   ]
  },
  {
   "cell_type": "markdown",
   "metadata": {},
   "source": [
    "Equation 31"
   ]
  },
  {
   "cell_type": "code",
   "execution_count": 237,
   "metadata": {},
   "outputs": [
    {
     "data": {
      "image/png": "[encoded data removed]",
      "text/latex": [
       "$\\displaystyle \\frac{\\Omega R_{H}^{2} m \\sigma v_{H}^{2}}{M^{2} v^{2}}$"
      ],
      "text/plain": [
       "     2        2\n",
       "Ω⋅R_H ⋅m⋅σ⋅v_H \n",
       "───────────────\n",
       "      2  2     \n",
       "     M ⋅v      "
      ]
     },
     "execution_count": 237,
     "metadata": {},
     "output_type": "execute_result"
    }
   ],
   "source": [
    "eqn_31_rhs = (sigma*Omega*R_H**2/m)*(m*v_H/M/v)**2\n",
    "eqn_31_rhs"
   ]
  },
  {
   "cell_type": "markdown",
   "metadata": {},
   "source": [
    "Second form of equation 31"
   ]
  },
  {
   "cell_type": "code",
   "execution_count": 244,
   "metadata": {},
   "outputs": [
    {
     "data": {
      "image/png": "[encoded data removed]",
      "text/latex": [
       "$\\displaystyle \\frac{\\Omega m \\sigma v_{H}^{2}}{M R \\alpha^{2} \\rho v^{2}}$"
      ],
      "text/plain": [
       "          2\n",
       " Ω⋅m⋅σ⋅v_H \n",
       "───────────\n",
       "     2    2\n",
       "M⋅R⋅α ⋅ρ⋅v "
      ]
     },
     "execution_count": 244,
     "metadata": {},
     "output_type": "execute_result"
    }
   ],
   "source": [
    "temp = eqn_31_rhs\n",
    "temp = temp.subs(hill_radius.lhs, hill_radius.rhs)\n",
    "temp = temp.subs(sympy.solve(eqn_2,a,dict=True)[0])\n",
    "temp = temp.subs(M_sol, rho_sol*R_sol**3)\n",
    "temp = temp.subs(M, rho*R**3)\n",
    "temp = temp.subs(rho**2, M*rho/R**3)\n",
    "eqn_31_rhs_2 = temp\n",
    "eqn_31_rhs_2"
   ]
  },
  {
   "cell_type": "markdown",
   "metadata": {},
   "source": [
    "Equation 32"
   ]
  },
  {
   "cell_type": "code",
   "execution_count": 245,
   "metadata": {},
   "outputs": [
    {
     "data": {
      "image/png": "[encoded data removed]",
      "text/latex": [
       "$\\displaystyle \\frac{R_{H} \\sqrt{v_{H}}}{\\sqrt{u}}$"
      ],
      "text/plain": [
       "      _____\n",
       "R_H⋅╲╱ v_H \n",
       "───────────\n",
       "     √u    "
      ]
     },
     "execution_count": 245,
     "metadata": {},
     "output_type": "execute_result"
    }
   ],
   "source": [
    "eqn_32_rhs = sympy.sqrt(v_H/u)*R_H\n",
    "eqn_32_rhs"
   ]
  },
  {
   "cell_type": "markdown",
   "metadata": {},
   "source": [
    "Equation 33"
   ]
  },
  {
   "cell_type": "code",
   "execution_count": 247,
   "metadata": {},
   "outputs": [
    {
     "data": {
      "image/png": "[encoded data removed]",
      "text/latex": [
       "$\\displaystyle \\frac{\\Omega R_{H}^{2} \\Sigma v_{H}}{M u}$"
      ],
      "text/plain": [
       "     2      \n",
       "Ω⋅R_H ⋅Σ⋅v_H\n",
       "────────────\n",
       "    M⋅u     "
      ]
     },
     "execution_count": 247,
     "metadata": {},
     "output_type": "execute_result"
    }
   ],
   "source": [
    "eqn_33_rhs = (Sigma/M)*Omega*eqn_32_rhs**2\n",
    "eqn_33_rhs"
   ]
  },
  {
   "cell_type": "markdown",
   "metadata": {},
   "source": [
    "Second form for equation 33"
   ]
  },
  {
   "cell_type": "code",
   "execution_count": 249,
   "metadata": {},
   "outputs": [
    {
     "data": {
      "image/png": "[encoded data removed]",
      "text/latex": [
       "$\\displaystyle \\frac{\\Omega \\Sigma v_{H}}{R \\alpha^{2} \\rho u}$"
      ],
      "text/plain": [
       "Ω⋅Σ⋅v_H \n",
       "────────\n",
       "   2    \n",
       "R⋅α ⋅ρ⋅u"
      ]
     },
     "execution_count": 249,
     "metadata": {},
     "output_type": "execute_result"
    }
   ],
   "source": [
    "temp = eqn_33_rhs\n",
    "temp = temp.subs(hill_radius.lhs, hill_radius.rhs)\n",
    "temp = temp.subs(sympy.solve(eqn_2,a,dict=True)[0])\n",
    "temp = temp.subs(M_sol, rho_sol*R_sol**3)\n",
    "temp = temp.subs(M, rho*R**3)\n",
    "temp"
   ]
  },
  {
   "cell_type": "code",
   "execution_count": null,
   "metadata": {},
   "outputs": [],
   "source": []
  }
 ],
 "metadata": {
  "kernelspec": {
   "display_name": "Python 3",
   "language": "python",
   "name": "python3"
  },
  "language_info": {
   "codemirror_mode": {
    "name": "ipython",
    "version": 3
   },
   "file_extension": ".py",
   "mimetype": "text/x-python",
   "name": "python",
   "nbconvert_exporter": "python",
   "pygments_lexer": "ipython3",
   "version": "3.7.4"
  }
 },
 "nbformat": 4,
 "nbformat_minor": 4
}
